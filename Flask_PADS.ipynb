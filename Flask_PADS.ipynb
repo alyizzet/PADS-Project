{
 "cells": [
  {
   "cell_type": "code",
   "execution_count": null,
   "metadata": {},
   "outputs": [],
   "source": [
    "\"\"\"\n",
    "FLASK ENDPOINT FOR POST REQUEST HANDLING\n",
    "\"\"\"\n",
    "from flask import Flask, request, jsonify\n",
    "from clickhouse_driver import Client\n",
    "from datetime import datetime \n",
    "import re\n",
    "\n",
    "client = Client(host='34.70.65.12', user = \"\", password = \"\", database = \"\")\n",
    "\n",
    "app = Flask(__name__)\n",
    "@app.route('/', methods = ['POST'])\n",
    "def json_example():\n",
    "    content = request.get_json()\n",
    " \n",
    "    slot_id = str(content['slotId'])\n",
    "    site = str(content['site'])\n",
    "    auction_id = str(content['auctionId'])\n",
    "    winning_bidder =  str(content['wbid']['bidder'])\n",
    "    winning_bid =  str(content['wbid']['cpm'])\n",
    "    width = str(content['wbid']['width'])\n",
    "    height = str(content['wbid']['height'])\n",
    "    \n",
    "    bidders_list = []\n",
    "    json_length = len(content['bids'])\n",
    "    bidder_pre = content['bids']\n",
    "    for i in range (json_length):\n",
    "        bidders_list.append(str(bidder_pre[i]['bidder']))\n",
    "    \n",
    "    bids_list = []\n",
    "    for i in range ( json_length):\n",
    "        bids_list.append(str(bidder_pre[i]['cpm']))\n",
    "\n",
    "    timestamp = datetime.now()\n",
    "    \n",
    "    client.execute('INSERT INTO Gonenc(slot_id,site,auction_id,bidders,bids,width,height,winning_bidder,winning_bid,time) VALUES',[(slot_id,site,auction_id,bidders_list,bids_list,width,height,winning_bidder,winning_bid,timestamp)],types_check = True)\n",
    "    return 'yarak'\n",
    "app.run(host='0.0.0.0', port= 8090)"
   ]
  }
 ],
 "metadata": {
  "kernelspec": {
   "display_name": "Python 3",
   "language": "python",
   "name": "python3"
  },
  "language_info": {
   "codemirror_mode": {
    "name": "ipython",
    "version": 3
   },
   "file_extension": ".py",
   "mimetype": "text/x-python",
   "name": "python",
   "nbconvert_exporter": "python",
   "pygments_lexer": "ipython3",
   "version": "3.7.1"
  }
 },
 "nbformat": 4,
 "nbformat_minor": 4
}
